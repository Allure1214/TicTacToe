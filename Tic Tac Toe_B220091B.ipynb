{
 "cells": [
  {
   "cell_type": "code",
   "execution_count": 1,
   "id": "27ae0057-524d-4a82-b483-5faaa0c8ac3a",
   "metadata": {},
   "outputs": [
    {
     "name": "stdout",
     "output_type": "stream",
     "text": [
      "-------------\n",
      "|   |   |   |\n",
      "-------------\n",
      "|   |   |   |\n",
      "-------------\n",
      "|   |   |   |\n",
      "-------------\n"
     ]
    },
    {
     "name": "stdin",
     "output_type": "stream",
     "text": [
      "Player X, enter your move (1-9):  1\n"
     ]
    },
    {
     "name": "stdout",
     "output_type": "stream",
     "text": [
      "-------------\n",
      "| X |   |   |\n",
      "-------------\n",
      "|   |   |   |\n",
      "-------------\n",
      "|   |   |   |\n",
      "-------------\n"
     ]
    },
    {
     "name": "stdin",
     "output_type": "stream",
     "text": [
      "Player O, enter your move (1-9):  2\n"
     ]
    },
    {
     "name": "stdout",
     "output_type": "stream",
     "text": [
      "-------------\n",
      "| X | O |   |\n",
      "-------------\n",
      "|   |   |   |\n",
      "-------------\n",
      "|   |   |   |\n",
      "-------------\n"
     ]
    },
    {
     "name": "stdin",
     "output_type": "stream",
     "text": [
      "Player X, enter your move (1-9):  3\n"
     ]
    },
    {
     "name": "stdout",
     "output_type": "stream",
     "text": [
      "-------------\n",
      "| X | O | X |\n",
      "-------------\n",
      "|   |   |   |\n",
      "-------------\n",
      "|   |   |   |\n",
      "-------------\n"
     ]
    },
    {
     "name": "stdin",
     "output_type": "stream",
     "text": [
      "Player O, enter your move (1-9):  4\n"
     ]
    },
    {
     "name": "stdout",
     "output_type": "stream",
     "text": [
      "-------------\n",
      "| X | O | X |\n",
      "-------------\n",
      "| O |   |   |\n",
      "-------------\n",
      "|   |   |   |\n",
      "-------------\n"
     ]
    },
    {
     "name": "stdin",
     "output_type": "stream",
     "text": [
      "Player X, enter your move (1-9):  5\n"
     ]
    },
    {
     "name": "stdout",
     "output_type": "stream",
     "text": [
      "-------------\n",
      "| X | O | X |\n",
      "-------------\n",
      "| O | X |   |\n",
      "-------------\n",
      "|   |   |   |\n",
      "-------------\n"
     ]
    },
    {
     "name": "stdin",
     "output_type": "stream",
     "text": [
      "Player O, enter your move (1-9):  6\n"
     ]
    },
    {
     "name": "stdout",
     "output_type": "stream",
     "text": [
      "-------------\n",
      "| X | O | X |\n",
      "-------------\n",
      "| O | X | O |\n",
      "-------------\n",
      "|   |   |   |\n",
      "-------------\n"
     ]
    },
    {
     "name": "stdin",
     "output_type": "stream",
     "text": [
      "Player X, enter your move (1-9):  7\n"
     ]
    },
    {
     "name": "stdout",
     "output_type": "stream",
     "text": [
      "-------------\n",
      "| X | O | X |\n",
      "-------------\n",
      "| O | X | O |\n",
      "-------------\n",
      "| X |   |   |\n",
      "-------------\n",
      "Player X wins!\n"
     ]
    }
   ],
   "source": [
    "def print_board(board):\n",
    "    # Display the board\n",
    "    print(\"-------------\")\n",
    "    print(\"| {} | {} | {} |\".format(board['1'], board['2'], board['3']))\n",
    "    print(\"-------------\")\n",
    "    print(\"| {} | {} | {} |\".format(board['4'], board['5'], board['6']))\n",
    "    print(\"-------------\")\n",
    "    print(\"| {} | {} | {} |\".format(board['7'], board['8'], board['9']))\n",
    "    print(\"-------------\")\n",
    "\n",
    "def check_win(board, player):\n",
    "    # Check horizontal, vertical and diagonal win conditions\n",
    "    win_conditions = [(board['1'] == board['2'] == board['3'] == player),\n",
    "                      (board['4'] == board['5'] == board['6'] == player),\n",
    "                      (board['7'] == board['8'] == board['9'] == player),\n",
    "                      (board['1'] == board['4'] == board['7'] == player),\n",
    "                      (board['2'] == board['5'] == board['8'] == player),\n",
    "                      (board['3'] == board['6'] == board['9'] == player),\n",
    "                      (board['1'] == board['5'] == board['9'] == player),\n",
    "                      (board['3'] == board['5'] == board['7'] == player)]\n",
    "    return any(win_conditions)\n",
    "\n",
    "def is_board_full(board):\n",
    "    # Check if all positions on the board are filled\n",
    "    return all(value != ' ' for value in board.values())\n",
    "\n",
    "def tic_tac_toe():\n",
    "    board = {str(num): ' ' for num in range(1, 10)}\n",
    "    current_player = 'X'\n",
    "    \n",
    "    for _ in range(9):\n",
    "        print_board(board)\n",
    "        while True:\n",
    "            move = input(f\"Player {current_player}, enter your move (1-9): \")\n",
    "            if move in board and board[move] == ' ':\n",
    "                board[move] = current_player\n",
    "                break\n",
    "            else:\n",
    "                print(\"Invalid move. Try again.\")\n",
    "        \n",
    "        if check_win(board, current_player):\n",
    "            print_board(board)\n",
    "            print(f\"Player {current_player} wins!\")\n",
    "            return\n",
    "        \n",
    "        current_player = 'O' if current_player == 'X' else 'X'\n",
    "    \n",
    "    print_board(board)\n",
    "    print(\"It's a tie!\")\n",
    "\n",
    "if __name__ == \"__main__\":\n",
    "    tic_tac_toe()"
   ]
  },
  {
   "cell_type": "code",
   "execution_count": null,
   "id": "822d6559-939f-412f-a0af-f3891d6110a6",
   "metadata": {},
   "outputs": [],
   "source": []
  }
 ],
 "metadata": {
  "kernelspec": {
   "display_name": "Python 3 (ipykernel)",
   "language": "python",
   "name": "python3"
  },
  "language_info": {
   "codemirror_mode": {
    "name": "ipython",
    "version": 3
   },
   "file_extension": ".py",
   "mimetype": "text/x-python",
   "name": "python",
   "nbconvert_exporter": "python",
   "pygments_lexer": "ipython3",
   "version": "3.11.7"
  }
 },
 "nbformat": 4,
 "nbformat_minor": 5
}
